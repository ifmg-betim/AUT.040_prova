{
 "cells": [
  {
   "cell_type": "markdown",
   "metadata": {},
   "source": [
    "# PROVA 2 - `[escreva seu nome aqui]` - `[escreva seu RA aqui]`\n",
    "\n",
    "Projeto de filtros digitais.\n",
    "\n",
    "**Instruções:**\n",
    "- Esta prova é **individual**, deve ser realizada somente por você! Você pode consultar códigos seus, tutoriais na internet e outras fontes, *desde que não sejam de seus colegas*.\n",
    "- A prova contém 2 (duas) atividades para implementação de filtro digital e reamostragem\n",
    "- Leia os textos com atenção! Interpretação das questões é parte da avaliação\n",
    "\n",
    "## Escreva o seu RA na variável abaixo\n",
    "\n",
    "Para começar escreva o valor do RA na variável abaixo.\n",
    "\n",
    "*Obs.: não inclua os zeros à esquerda do RA não!*"
   ]
  },
  {
   "cell_type": "code",
   "execution_count": null,
   "metadata": {
    "run_control": {
     "marked": false
    }
   },
   "outputs": [],
   "source": [
    "import numpy as np, scipy as sp, matplotlib.pyplot as plt\n",
    "from scipy import signal\n",
    "\n",
    "### SEU CÓDIGO COMEÇA AQUI ###\n",
    "RA = None\n",
    "### SEU CÓDIGO TERMINA AQUI ###"
   ]
  },
  {
   "cell_type": "markdown",
   "metadata": {},
   "source": [
    "# Projeto de Filtro\n",
    "\n",
    "Rode o código abaixo para ver as especificações do filtro a ser projetado. **Atenção:** além das especificações convencionais de filtro, é mostrada também uma determinada característica que o filtro deve apresentar com relação à banda de passagem, rejeição, fase, ou outra. O seu filtro *deve atender a TODAS as características especificadas*."
   ]
  },
  {
   "cell_type": "code",
   "execution_count": null,
   "metadata": {
    "code_folding": [],
    "run_control": {
     "marked": false
    }
   },
   "outputs": [],
   "source": [
    "# Especificações do filtro\n",
    "np.random.seed(int(np.pi*RA*10))\n",
    "Ap = int(np.random.uniform(.1,1)*10)/10\n",
    "Ar = int(np.random.uniform(35,50))\n",
    "fs = int(np.random.uniform(300,600))\n",
    "if (int(10*np.random.rand())%2==0):\n",
    "    fr1 = int(np.random.uniform(.1,.15)*fs/2)\n",
    "    fp1 = int(np.random.uniform(.2,.3)*fs/2)\n",
    "    fp2 = int(np.random.uniform(.5,.55)*fs/2)\n",
    "    fr2 = int(np.random.uniform(.65,.7)*fs/2)\n",
    "else:\n",
    "    fp1 = int(np.random.uniform(.1,.15)*fs/2)\n",
    "    fr1 = int(np.random.uniform(.25,.35)*fs/2)\n",
    "    fr2 = int(np.random.uniform(.5,.6)*fs/2)\n",
    "    fp2 = int(np.random.uniform(.65,.7)*fs/2)\n",
    "caract={0:'resposta maximamente plana na banda de passagem e menor ordem possível.', \n",
    "        1:'ausência de ripple nas bandas de passagem e rejeição, com menor ordem possível.',\n",
    "        2:'atraso de grupo constante para todo valor de frequência.',\n",
    "        3:'resposta maximamente plana na banda de rejeição e menor ordem possível.',\n",
    "        4:'menor ordem possível.',\n",
    "        5:'fase linear em toda faixa de frequência.'}\n",
    "car_idx = int(np.random.uniform(0,6))\n",
    "\n",
    "print(\"===============================================\")\n",
    "print(\"CARACTERÍSTICA DO FILTRO\")\n",
    "print(\" >> Você deve projetar um filtro com \" +\n",
    "      caract.get(car_idx,\"menor ordem possível.\"))\n",
    "print(\" \")\n",
    "print(\"PARÂMETROS DO FILTRO\")\n",
    "print(\" >>  Ap = %.1f dB\"%Ap)\n",
    "print(\" >>  Ar = %.0f dB\"%Ar)\n",
    "print(\" >>  fs = %.0f Hz (frequência de amostragem)\"%fs)\n",
    "print(\" >> fp1 = %.0f Hz (frequência banda de passagem)\"%fp1)\n",
    "print(\" >> fp2 = %.0f Hz (frequência banda de passagem)\"%fp2)\n",
    "print(\" >> fr1 = %.0f Hz (frequência banda de rejeição)\"%fr1)\n",
    "print(\" >> fr2 = %.0f Hz (frequência banda de rejeição)\"%fr2)\n",
    "print(\"===============================================\")"
   ]
  },
  {
   "cell_type": "markdown",
   "metadata": {},
   "source": [
    "<mark>**IMPLEMENTAÇÃO:** na célula abaixo faça o projeto **do filtro mais apropriado** para atender os critérios de projeto especificados acima. Mostre ao final, a resposta em frequência (módulo e fase) do filtro juntamente com o gabarito de projeto. Mostre também o atraso de grupo do filtro. </mark>\n",
    "\n",
    "- Todos os gráficos **DEVEM** ter tamanho `figsize=(10,1.5)`"
   ]
  },
  {
   "cell_type": "code",
   "execution_count": null,
   "metadata": {
    "scrolled": false
   },
   "outputs": [],
   "source": [
    "### SEU CÓDIGO COMEÇA AQUI ###\n",
    "\n",
    "### SEU CÓDIGO TERMINA AQUI ###"
   ]
  },
  {
   "cell_type": "markdown",
   "metadata": {},
   "source": [
    "**Saída esperada**:\n",
    "1. Gráfico do módulo da resposta em frequência do filtro projetado, junto com o gabarito\n",
    "1. Gráfico da fase da resposta em frequência do filtro projetado\n",
    "1. Gráfico do atraso de grupo do filtro projetado\n",
    "___\n",
    "\n",
    "\n",
    "# Filtrando um sinal\n",
    "\n",
    "Agora você usará o filtro projeto para filtrar o sinal abaixo. Primeiro, rode o código abaixo para gerar o sinal e leia a saída gerada pelo código, que informa a diferença de frequências de amostragem entre o sinal e o filtro projetado."
   ]
  },
  {
   "cell_type": "code",
   "execution_count": null,
   "metadata": {
    "run_control": {
     "marked": false
    }
   },
   "outputs": [],
   "source": [
    "# Sinal a ser trabalhado\n",
    "np.random.seed(int(np.pi*RA*10)); _ = np.random.uniform(); _ = np.random.uniform()\n",
    "\n",
    "# parâmetros úteis\n",
    "N_x = 5000 #número de pontos dos sinais\n",
    "fs_0 = int(np.random.uniform(300,600))\n",
    "fs_x = fs_0*int(np.random.uniform(.6,.9)*10)/10\n",
    "T_x = 1/fs_x #período de amostragem [s]\n",
    "t = np.arange(0, N_x*T_x, T_x) #vetor tempo\n",
    "\n",
    "# sinal no domínio do tempo\n",
    "x = signal.chirp(t, f0=.4*fs_x, t1=t[N_x//5], f1=.001*fs_x, method='linear')+np.random.normal()*1e-3\n",
    "\n",
    "plt.figure(figsize=(15,1.5))\n",
    "plt.plot(t, x)\n",
    "plt.xlim((0,max(t)))\n",
    "plt.ylim((-1.2,1.2))\n",
    "plt.ylabel(\"$x(t)$\")\n",
    "plt.xlabel(\"tempo [s]\")\n",
    "plt.show();\n",
    "\n",
    "print(\"==================================================\")\n",
    "print(\"REAMOSTRAGEM DO SINAL: o sinal 'x' foi produzido\")\n",
    "print(\"  usando uma frequência de amostragem de %.0f Hz.\"%fs_x)\n",
    "print(\"  Contudo, o filtro projetado na primeira parte\")\n",
    "print(\"  considerou frequência de amostragem de %.0f Hz.\"%fs_0)\n",
    "print(\" \")\n",
    "print(\" >> Use seus conhecimentos de processamento de\")\n",
    "print(\"    sinais para passar o sinal pelo filtro.\")\n",
    "print(\" \")\n",
    "print(\" >> Ao final, deve ser gerado um sinal 'y'\")\n",
    "print(\"    filtrado pelo filtro projetado. A frequência\")\n",
    "print(\"    de amostragem de 'y' deve ser de %.0f Hz.\"%fs_x)\n",
    "print(\"==================================================\")"
   ]
  },
  {
   "cell_type": "markdown",
   "metadata": {},
   "source": [
    "**Saída esperada**:\n",
    "1. Gráfico do sinal `x` no domínio do tempo (informação para conferência apenas, você não precisa implementar nada acima, só rodar mesmo)\n",
    "2. Texto mostrando as frequências de amostragem de `x` e também do filtro projetado anteriormente\n",
    "___\n",
    "\n",
    "<mark>**Fazer:** passe o sinal $x(t)$ pelo filtro projetado na primeira parte. Note que as taxas de amostragem são diferentes! Você deve reamostrar o sinal para passar pelo filtro.</mark>\n",
    "1. Ao reamostrar sinais, você **deve** fazer um gráfico do módulo (apenas) da FFT do sinal antes e após o processo de reamostragem\n",
    "1. Ao filtrar um sinal, você **deve** fazer um gráfico do módulo (apenas) da FFT do sinal antes e após a filtragem do sinal\n",
    "1. Todos os gráficos **DEVEM** ter tamanho `figsize=(10,1.5)`\n",
    "1. Mostre o eixo de frequências sempre em Hz \n",
    "1. OPCIONALMENTE, você pode mostrar os gráficos dos sinais no domínio do tempo"
   ]
  },
  {
   "cell_type": "code",
   "execution_count": null,
   "metadata": {
    "scrolled": false
   },
   "outputs": [],
   "source": [
    "### SEU CÓDIGO COMEÇA AQUI ###\n",
    "\n",
    "\n",
    "\n",
    "### SEU CÓDIGO TERMINA AQUI ###"
   ]
  },
  {
   "cell_type": "markdown",
   "metadata": {},
   "source": [
    "**Saída esperada**:\n",
    "1. Gráfico do módulo da FFT do sinal `x` antes e `xr` após o processo de reamostragem\n",
    "1. Gráfico do módulo da FFT do sinal `xr` antes e `yr` após passar pelo filtro\n",
    "1. Gráfico do módulo da FFT do sinal `yr` antes e `y` após o segundo processo de reamostragem\n",
    "1. [OPCIONAL] gráfico dos sinais no domínio do tempo\n",
    "___\n",
    "\n",
    "\n",
    "# Explique abaixo o que foi feito para possibilitar a filtragem do sinal, já que o filtro e o sinal foram concebidos em períodos de amostragem distintos\n",
    "\n",
    "\n",
    "`[escreva aqui o que foi feito para uso do filtro]`"
   ]
  },
  {
   "cell_type": "markdown",
   "metadata": {},
   "source": [
    "___\n",
    "# Outras informações podem ser inseridas abaixo\n",
    "\n",
    "`[se não for escrever nada, apague esta célula!]`"
   ]
  }
 ],
 "metadata": {
  "kernelspec": {
   "display_name": "Python 3",
   "language": "python",
   "name": "python3"
  },
  "language_info": {
   "codemirror_mode": {
    "name": "ipython",
    "version": 3
   },
   "file_extension": ".py",
   "mimetype": "text/x-python",
   "name": "python",
   "nbconvert_exporter": "python",
   "pygments_lexer": "ipython3",
   "version": "3.6.11"
  },
  "toc": {
   "base_numbering": 1,
   "nav_menu": {
    "height": "228px",
    "width": "370px"
   },
   "number_sections": true,
   "sideBar": true,
   "skip_h1_title": false,
   "title_cell": "Table of Contents",
   "title_sidebar": "Contents",
   "toc_cell": false,
   "toc_position": {},
   "toc_section_display": true,
   "toc_window_display": false
  }
 },
 "nbformat": 4,
 "nbformat_minor": 2
}
